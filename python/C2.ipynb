{
  "nbformat": 4,
  "nbformat_minor": 0,
  "metadata": {
    "colab": {
      "name": "C2.ipynb",
      "provenance": [],
      "authorship_tag": "ABX9TyPFRRZLY/qneacpEovwmsks",
      "include_colab_link": true
    },
    "kernelspec": {
      "name": "python3",
      "display_name": "Python 3"
    },
    "language_info": {
      "name": "python"
    }
  },
  "cells": [
    {
      "cell_type": "markdown",
      "metadata": {
        "id": "view-in-github",
        "colab_type": "text"
      },
      "source": [
        "<a href=\"https://colab.research.google.com/github/andreacangiani/NSPDE-ANA22/blob/main/python/C2.ipynb\" target=\"_parent\"><img src=\"https://colab.research.google.com/assets/colab-badge.svg\" alt=\"Open In Colab\"/></a>"
      ]
    },
    {
      "cell_type": "markdown",
      "source": [
        "# Divided differences using sparse matrix"
      ],
      "metadata": {
        "id": "WLd_JqUTLlx7"
      }
    },
    {
      "cell_type": "markdown",
      "source": [
        "Import the usual modules"
      ],
      "metadata": {
        "id": "lAvcakieLgH4"
      }
    },
    {
      "cell_type": "code",
      "execution_count": 4,
      "metadata": {
        "id": "UhR8FV_9KpLl"
      },
      "outputs": [],
      "source": [
        "import numpy as np\n",
        "import matplotlib.pyplot as plt\n",
        "import sympy as sym"
      ]
    },
    {
      "cell_type": "markdown",
      "source": [
        "New module: sparse algebra"
      ],
      "metadata": {
        "id": "TEsSBeGDMz-9"
      }
    },
    {
      "cell_type": "code",
      "source": [
        "import scipy.sparse as sp"
      ],
      "metadata": {
        "id": "knW_Lj85M3g2"
      },
      "execution_count": 5,
      "outputs": []
    },
    {
      "cell_type": "markdown",
      "source": [
        "Function implementing the forward difference in sparse format"
      ],
      "metadata": {
        "id": "AOx_KN1HLSBn"
      }
    },
    {
      "cell_type": "code",
      "source": [
        "def forward_difference(a, b, N):\n",
        "  h = (b-a)/N\n",
        " \n",
        "  # Compute FD matrix as sparse using Compressed Sparse Row (CSR) format \n",
        "\n",
        "  return"
      ],
      "metadata": {
        "id": "bPMMOZh0LRd5"
      },
      "execution_count": 6,
      "outputs": []
    },
    {
      "cell_type": "markdown",
      "source": [
        "Use the FD to evaluate the derivative of $f(x)=\\frac{x^2}{2}$"
      ],
      "metadata": {
        "id": "vFJoKMnYMThw"
      }
    },
    {
      "cell_type": "code",
      "source": [
        "t = sym.var('t')\n",
        "my_f = 0.5 * t**2\n",
        "fsym = sym.lambdify(t, my_f )\n",
        "\n",
        "a=0 \n",
        "b=1\n",
        "N = 5\n",
        "\n",
        "# Evaluate FD matrix\n",
        "\n",
        "# Values of the derivative at the \n",
        "# internal grid points\n",
        "\n",
        "\n",
        "# Print results\n"
      ],
      "metadata": {
        "id": "6Nq2C60jL6PZ"
      },
      "execution_count": 7,
      "outputs": []
    },
    {
      "cell_type": "markdown",
      "source": [
        "**Exercise.** Find a way to evaluate execution time and compare full vs sparse exectution time"
      ],
      "metadata": {
        "id": "8sObv8G9YSof"
      }
    },
    {
      "cell_type": "markdown",
      "source": [
        "# Central finite differences in 1D"
      ],
      "metadata": {
        "id": "3EVlhgPcKty_"
      }
    },
    {
      "cell_type": "markdown",
      "source": [
        "Poisson problem in 1D:\n",
        "\n",
        "$-u''(x)=f(x) \\quad \\in (a,b)$\n",
        "\n",
        "$u(a)=0, \\quad u(b)=0$\n",
        "\n",
        "We use the second central divided difference to approxima the second derivative.\n",
        "\n",
        "Given $h>0$, \n",
        "\n",
        "$u''(x)≈\\frac{u(x+h)-2u(x)+u(x-h)}{h^2}$"
      ],
      "metadata": {
        "id": "cPX73u-NK2Pq"
      }
    },
    {
      "cell_type": "markdown",
      "source": [
        "Function for second central matrix"
      ],
      "metadata": {
        "id": "Uf1tUssmNf7d"
      }
    },
    {
      "cell_type": "code",
      "source": [
        "def CD2(N):\n",
        "  # Function defining nominator of\n",
        "  # second central FD formula on a \n",
        "  # uniform grid in sparse CSR format\n"
      ],
      "metadata": {
        "id": "6AkrOqiXNcTJ"
      },
      "execution_count": null,
      "outputs": []
    },
    {
      "cell_type": "markdown",
      "source": [
        "Test problem:\n",
        "\n",
        "$(a,b)=(0,\\pi)$\n",
        "\n",
        "u(x)=sin(x)"
      ],
      "metadata": {
        "id": "kQFF0QdiNvCt"
      }
    },
    {
      "cell_type": "code",
      "source": [
        "# Define right-hand side function\n",
        "t = sym.var('t')\n",
        "my_f = sym.sin(t)\n",
        "rhs_f = sym.lambdify(t, my_f )\n",
        "\n",
        "# Define exact solution\n",
        "my_sol = sym.sin(t)\n",
        "exact_sol = sym.lambdify(t, my_sol )"
      ],
      "metadata": {
        "id": "6o6A_IUkNuMG"
      },
      "execution_count": null,
      "outputs": []
    },
    {
      "cell_type": "markdown",
      "source": [
        "Define FD problem:\n",
        "\n",
        "for $h=(b-a)/N$\n",
        "\n",
        "$ A U = - h^2 F$ \n",
        "\n",
        "with $A$ the nominator of CD formula."
      ],
      "metadata": {
        "id": "SWzKNz0vOOWW"
      }
    },
    {
      "cell_type": "code",
      "source": [
        "# Problem domain\n",
        "\n",
        "\n",
        "# Size of grid\n",
        "\n",
        "\n",
        "# Grid\n",
        "\n",
        "\n",
        "# CD matrix\n",
        "\n",
        "\n",
        "# Right-hand side\n",
        "\n",
        "\n",
        "# Homogeneous Dirichlet boundary conditions\n",
        "\n"
      ],
      "metadata": {
        "id": "9ZJJbGtGOME1"
      },
      "execution_count": null,
      "outputs": []
    },
    {
      "cell_type": "markdown",
      "source": [
        "Solve problem and print result"
      ],
      "metadata": {
        "id": "AKmPecQMO4Kr"
      }
    },
    {
      "cell_type": "code",
      "source": [
        "# Compute solution at internal nodes\n",
        "\n",
        "\n",
        "# print max error\n",
        "\n"
      ],
      "metadata": {
        "id": "l7B-YKy9O5jF"
      },
      "execution_count": null,
      "outputs": []
    },
    {
      "cell_type": "markdown",
      "source": [
        "**Exercise 1.** test for convergence and plot convergence plot"
      ],
      "metadata": {
        "id": "EbHL94cyPFWM"
      }
    },
    {
      "cell_type": "markdown",
      "source": [
        "**Exercise 2.** Solve the problem with nonhomogeneous Dirichlet conditions:\n",
        "\n",
        "$-\\alpha u''(x)=f(x) \\quad \\in (a,b)$\n",
        "\n",
        "$u(a)=u_a, \\quad u(b)=u_b$"
      ],
      "metadata": {
        "id": "T2QXoNYhP228"
      }
    },
    {
      "cell_type": "markdown",
      "source": [
        "For example, you could fix: $(a,b)=(0,\\pi/2)$, solution $u$ as before, $\\alpha=\\frac{1}{2}$"
      ],
      "metadata": {
        "id": "PWX-C4sbQd-p"
      }
    },
    {
      "cell_type": "markdown",
      "source": [
        "**Exercise 3.** Solve the problem with (homogeneous) Neumann conditions:\n",
        "\n",
        "$-\\alpha u''(x)=f(x) \\quad \\in (a,b)$\n",
        "\n",
        "$u(a)=u_a, \\quad u'(b)=0$"
      ],
      "metadata": {
        "id": "DwxTZDyTQ_cV"
      }
    },
    {
      "cell_type": "markdown",
      "source": [
        "For example, you could fix: $(a,b)=(0,\\pi/2)$, solution $u$ as before, $\\alpha=1$."
      ],
      "metadata": {
        "id": "aySe91zwRMq3"
      }
    },
    {
      "cell_type": "markdown",
      "source": [
        "**Exercise 4.** Solve the reaction-advection-diffusion problem:\n",
        "\n",
        "$-\\alpha u''(x)+\\beta u''(x)+\\gamma u(x)=f(x) \\quad \\in (a,b)$\n",
        "\n",
        "$u(a)=u_a, \\quad u'(b)=d_b$"
      ],
      "metadata": {
        "id": "MyrPdJSCSOeG"
      }
    },
    {
      "cell_type": "markdown",
      "source": [
        "**Exercise 5.** Now take any of the problems above, but this time with data such that you do not know the exact solution. How would you test the order of convergence of the FD method?"
      ],
      "metadata": {
        "id": "j8p08w7TRj34"
      }
    }
  ]
}