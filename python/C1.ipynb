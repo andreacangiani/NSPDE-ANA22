{
  "nbformat": 4,
  "nbformat_minor": 0,
  "metadata": {
    "colab": {
      "name": "C1.ipynb",
      "provenance": [],
      "collapsed_sections": [],
      "authorship_tag": "ABX9TyMmXUj6P4M9afA7FH3EgxE+",
      "include_colab_link": true
    },
    "kernelspec": {
      "name": "python3",
      "display_name": "Python 3"
    },
    "language_info": {
      "name": "python"
    }
  },
  "cells": [
    {
      "cell_type": "markdown",
      "metadata": {
        "id": "view-in-github",
        "colab_type": "text"
      },
      "source": [
        "<a href=\"https://colab.research.google.com/github/andreacangiani/NSPDE-ANA22/blob/main/python/C1.ipynb\" target=\"_parent\"><img src=\"https://colab.research.google.com/assets/colab-badge.svg\" alt=\"Open In Colab\"/></a>"
      ]
    },
    {
      "cell_type": "markdown",
      "source": [
        "# Introduction"
      ],
      "metadata": {
        "id": "mBbJ3xoVKHvB"
      }
    },
    {
      "cell_type": "markdown",
      "source": [
        "I will assume the knowledge acquired from the 1st semester course by Rozza and Heltai.\n",
        "\n",
        "Good free book on Scientific Computing with Python:\n",
        "\n",
        "https://link.springer.com/book/10.1007/978-3-030-50356-7\n",
        "\n"
      ],
      "metadata": {
        "id": "akBplfCp9x2y"
      }
    },
    {
      "cell_type": "markdown",
      "source": [
        "# Python for Scientific Computing: quick recap"
      ],
      "metadata": {
        "id": "BayxWMT7KA9R"
      }
    },
    {
      "cell_type": "markdown",
      "source": [
        "**Why Python?**\n",
        "\n",
        "    Python is a modern, general-purpose, object-oriented, high-level programming language with huge community of users\n",
        "\n",
        "* No license costs. Immediately available (no installation required) from cloud computing platforms, eg. Google [Colab](https://colab.research.google.com)\n",
        "  * You'll need a Google account to access Google colab\n",
        "\n",
        "* Extensive ecosystem of scientific libraries (modules):\n",
        "  * [numpy](https://www.numpy.org) - Numerical Python\n",
        "  * [scipy](https://www.scipy.org) -  Scientific Python\n",
        "  * [matplotlib](https://www.matplotlib.org) - graphics library\n",
        "  * [petsc4py](https://gitlab.com/petsc/petsc) & [slepc4py](https://gitlab.com/slepc/slepc) - vast range of sequential or parallel linear or nonlinear solvers, time stepping, optimization, and eigensolvers\n",
        "  * [FEniCS](https://www.fenicsproject.org/) & [Firedrake](https://www.firedrakeproject.org) - finite element method (FEM) platforms."
      ],
      "metadata": {
        "id": "CCo_kCv8KPVo"
      }
    },
    {
      "cell_type": "markdown",
      "source": [
        "You can get this colab notebook by typing the line:\n",
        "\n",
        "**!git clone https://github.com/andreacangiani/NSPDE-ANA22.git**"
      ],
      "metadata": {
        "id": "k6JAL9FReFtM"
      }
    },
    {
      "cell_type": "markdown",
      "source": [
        "**Modules**"
      ],
      "metadata": {
        "id": "y_jfqlpVKV6F"
      }
    },
    {
      "cell_type": "code",
      "source": [
        "import math\n",
        "\n",
        "print(dir(math))\n",
        "\n",
        "help(math.sin)\n",
        "\n",
        "x = math.sin(math.pi / 2)\n",
        "\n",
        "print(x)\n",
        "\n",
        "del math"
      ],
      "metadata": {
        "id": "u4mqQfc1KUkG",
        "colab": {
          "base_uri": "https://localhost:8080/"
        },
        "outputId": "5873cafd-6c25-42ce-8292-3b10b38e6500"
      },
      "execution_count": 1,
      "outputs": [
        {
          "output_type": "stream",
          "name": "stdout",
          "text": [
            "['__doc__', '__loader__', '__name__', '__package__', '__spec__', 'acos', 'acosh', 'asin', 'asinh', 'atan', 'atan2', 'atanh', 'ceil', 'copysign', 'cos', 'cosh', 'degrees', 'e', 'erf', 'erfc', 'exp', 'expm1', 'fabs', 'factorial', 'floor', 'fmod', 'frexp', 'fsum', 'gamma', 'gcd', 'hypot', 'inf', 'isclose', 'isfinite', 'isinf', 'isnan', 'ldexp', 'lgamma', 'log', 'log10', 'log1p', 'log2', 'modf', 'nan', 'pi', 'pow', 'radians', 'remainder', 'sin', 'sinh', 'sqrt', 'tan', 'tanh', 'tau', 'trunc']\n",
            "Help on built-in function sin in module math:\n",
            "\n",
            "sin(x, /)\n",
            "    Return the sine of x (measured in radians).\n",
            "\n",
            "1.0\n"
          ]
        }
      ]
    },
    {
      "cell_type": "code",
      "source": [
        "from math import sin, pi\n",
        "\n",
        "x = cos(pi / 2)\n",
        "\n",
        "print(x)"
      ],
      "metadata": {
        "id": "zpxfr_JgJ4iE",
        "colab": {
          "base_uri": "https://localhost:8080/",
          "height": 244
        },
        "outputId": "00a8f3e6-5f2b-49f2-fedf-a60bb0165a59"
      },
      "execution_count": 5,
      "outputs": [
        {
          "output_type": "error",
          "ename": "NameError",
          "evalue": "ignored",
          "traceback": [
            "\u001b[0;31m---------------------------------------------------------------------------\u001b[0m",
            "\u001b[0;31mNameError\u001b[0m                                 Traceback (most recent call last)",
            "\u001b[0;32m<ipython-input-5-a30b75472309>\u001b[0m in \u001b[0;36m<module>\u001b[0;34m()\u001b[0m\n\u001b[1;32m      1\u001b[0m \u001b[0;32mfrom\u001b[0m \u001b[0mmath\u001b[0m \u001b[0;32mimport\u001b[0m \u001b[0msin\u001b[0m\u001b[0;34m,\u001b[0m \u001b[0mpi\u001b[0m\u001b[0;34m\u001b[0m\u001b[0;34m\u001b[0m\u001b[0m\n\u001b[1;32m      2\u001b[0m \u001b[0;34m\u001b[0m\u001b[0m\n\u001b[0;32m----> 3\u001b[0;31m \u001b[0mx\u001b[0m \u001b[0;34m=\u001b[0m \u001b[0mcos\u001b[0m\u001b[0;34m(\u001b[0m\u001b[0mpi\u001b[0m \u001b[0;34m/\u001b[0m \u001b[0;36m2\u001b[0m\u001b[0;34m)\u001b[0m\u001b[0;34m\u001b[0m\u001b[0;34m\u001b[0m\u001b[0m\n\u001b[0m\u001b[1;32m      4\u001b[0m \u001b[0;34m\u001b[0m\u001b[0m\n\u001b[1;32m      5\u001b[0m \u001b[0mprint\u001b[0m\u001b[0;34m(\u001b[0m\u001b[0mx\u001b[0m\u001b[0;34m)\u001b[0m\u001b[0;34m\u001b[0m\u001b[0;34m\u001b[0m\u001b[0m\n",
            "\u001b[0;31mNameError\u001b[0m: name 'cos' is not defined"
          ]
        }
      ]
    },
    {
      "cell_type": "markdown",
      "source": [
        "**Variables**\n",
        "Convention: variable names start with a lower-case letter (Class names start with a capital letter)."
      ],
      "metadata": {
        "id": "4lHhLaXVj-Fa"
      }
    },
    {
      "cell_type": "code",
      "source": [
        "x = pi\n",
        "\n",
        "print(type(x))\n",
        "\n",
        "x = 1\n",
        "\n",
        "print(type(x))"
      ],
      "metadata": {
        "id": "Kjwc-K7akIkn",
        "colab": {
          "base_uri": "https://localhost:8080/"
        },
        "outputId": "5402359d-fb25-4d7f-bad3-09d93aa40361"
      },
      "execution_count": 7,
      "outputs": [
        {
          "output_type": "stream",
          "name": "stdout",
          "text": [
            "<class 'float'>\n",
            "<class 'int'>\n"
          ]
        }
      ]
    },
    {
      "cell_type": "markdown",
      "source": [
        "**Operators**\n",
        "\n",
        "* Arithmetic operators: \n",
        "    `+`, `-`, `*`, `/`, `//` (integer division), `**` power\n",
        "\n",
        "* Boolean operators: \n",
        "    `and`, `not`, `or`\n",
        "\n",
        "* Comparison operators: \n",
        "    `>`, `<`, `>=` (greater or equal), `<=` (less or equal), `==` equal, `!=` not equal."
      ],
      "metadata": {
        "id": "T9r-DvZ0k9v6"
      }
    },
    {
      "cell_type": "code",
      "source": [
        "print(2**3)"
      ],
      "metadata": {
        "id": "jzUk7ffzlup2"
      },
      "execution_count": null,
      "outputs": []
    },
    {
      "cell_type": "code",
      "source": [
        "my_bool = True and False\n",
        "\n",
        "my_string = \"Can something be true and false at the same time???  \"\n",
        "\n",
        "print(my_string, my_bool)"
      ],
      "metadata": {
        "id": "7bEDZla2ljTV",
        "colab": {
          "base_uri": "https://localhost:8080/"
        },
        "outputId": "8d182265-39cc-42ec-933a-898af9f7cdf4"
      },
      "execution_count": 8,
      "outputs": [
        {
          "output_type": "stream",
          "name": "stdout",
          "text": [
            "Can something be true and false at the same time???   False\n"
          ]
        }
      ]
    },
    {
      "cell_type": "code",
      "source": [
        "3 >= 2"
      ],
      "metadata": {
        "id": "NQN5JGSsl7Go",
        "colab": {
          "base_uri": "https://localhost:8080/"
        },
        "outputId": "3723b2ac-a59f-424c-a465-124163e4f4d4"
      },
      "execution_count": 9,
      "outputs": [
        {
          "output_type": "execute_result",
          "data": {
            "text/plain": [
              "True"
            ]
          },
          "metadata": {},
          "execution_count": 9
        }
      ]
    },
    {
      "cell_type": "code",
      "source": [
        "statement1 = (3 <= 2)\n",
        "statement2 = (0 == 1)\n",
        "\n",
        "# Note! Indentation based!\n",
        "if statement1:\n",
        "    print(\"statement1 is True\")\n",
        "elif statement2:\n",
        "    print(\"statement2 is True\")\n",
        "else:\n",
        "    print(\"statement1 and statement2 are both False\")"
      ],
      "metadata": {
        "id": "tFkg4BRvn39e"
      },
      "execution_count": null,
      "outputs": []
    },
    {
      "cell_type": "markdown",
      "source": [
        "**Lists**"
      ],
      "metadata": {
        "id": "rx44oesGnETN"
      }
    },
    {
      "cell_type": "code",
      "source": [
        "my_list = [1, 2, 3, 4, 5, \"a\"]\n",
        "\n",
        "print(my_list)\n",
        "\n",
        "print(type(my_list))"
      ],
      "metadata": {
        "id": "OlgqomiqnY_V",
        "colab": {
          "base_uri": "https://localhost:8080/"
        },
        "outputId": "efabae58-11aa-48d7-9f90-4b247f116934"
      },
      "execution_count": 10,
      "outputs": [
        {
          "output_type": "stream",
          "name": "stdout",
          "text": [
            "[1, 2, 3, 4, 5, 'a']\n",
            "<class 'list'>\n"
          ]
        }
      ]
    },
    {
      "cell_type": "code",
      "source": [
        "my_nested_list = [[1, 2], [3, 4, 5]]\n",
        "\n",
        "print(my_nested_list)"
      ],
      "metadata": {
        "id": "CT5UursenDjg",
        "colab": {
          "base_uri": "https://localhost:8080/"
        },
        "outputId": "2dca3d7c-98bd-4bde-e6f8-f67e33c633b3"
      },
      "execution_count": 11,
      "outputs": [
        {
          "output_type": "stream",
          "name": "stdout",
          "text": [
            "[[1, 2], [3, 4, 5]]\n"
          ]
        }
      ]
    },
    {
      "cell_type": "markdown",
      "source": [
        "Turning lists into NumPy arrays"
      ],
      "metadata": {
        "id": "rINUzQH5a-Py"
      }
    },
    {
      "cell_type": "code",
      "source": [
        "import numpy as np # module for arrays\n",
        "my_list = [1, 2, 3, 4, 5]\n",
        "x = np.array(my_list) # turns the list into np array\n",
        "print(x)\n",
        "print(type(x))"
      ],
      "metadata": {
        "id": "eoQEoZzNbEod",
        "colab": {
          "base_uri": "https://localhost:8080/"
        },
        "outputId": "88cf5a7f-32e2-4f39-bd71-75313f97581b"
      },
      "execution_count": 13,
      "outputs": [
        {
          "output_type": "stream",
          "name": "stdout",
          "text": [
            "[1 2 3 4 5]\n",
            "<class 'numpy.ndarray'>\n"
          ]
        }
      ]
    },
    {
      "cell_type": "markdown",
      "source": [
        "**\"for\" and and \"while\" loops**"
      ],
      "metadata": {
        "id": "5ztAn85ipDTZ"
      }
    },
    {
      "cell_type": "code",
      "source": [
        "for x in [0, 1, 2, 3]:\n",
        "    print(x)\n",
        "\n",
        "print(\"is identical to\")\n",
        "\n",
        "for x in range(4):\n",
        "    print(x)"
      ],
      "metadata": {
        "id": "89w0KYuepKzb",
        "colab": {
          "base_uri": "https://localhost:8080/"
        },
        "outputId": "720cad66-4b9d-4a1a-c6a8-7648d3e6eee4"
      },
      "execution_count": 14,
      "outputs": [
        {
          "output_type": "stream",
          "name": "stdout",
          "text": [
            "0\n",
            "1\n",
            "2\n",
            "3\n",
            "is identical to\n",
            "0\n",
            "1\n",
            "2\n",
            "3\n"
          ]
        }
      ]
    },
    {
      "cell_type": "code",
      "source": [
        "for x in range(0, -6, -2):\n",
        "    print(x)"
      ],
      "metadata": {
        "id": "R2q82MFAproh",
        "colab": {
          "base_uri": "https://localhost:8080/"
        },
        "outputId": "d859cf2c-2cff-4085-96ed-cd5c8953d4fd"
      },
      "execution_count": 15,
      "outputs": [
        {
          "output_type": "stream",
          "name": "stdout",
          "text": [
            "0\n",
            "-2\n",
            "-4\n"
          ]
        }
      ]
    },
    {
      "cell_type": "code",
      "source": [
        "i = 0\n",
        "while i < 3:\n",
        "    print(i)\n",
        "    i += 1 \n",
        "\n",
        "print(\"is identical to\")\n",
        "\n",
        "v = [0, 1, 2, 3]\n",
        "i = 0\n",
        "while i<len(v)-1:\n",
        "  print(v[i])\n",
        "  i = i + 1"
      ],
      "metadata": {
        "id": "xWcashocqAoi",
        "colab": {
          "base_uri": "https://localhost:8080/"
        },
        "outputId": "80d0dd9c-0868-4a65-96a7-29301c6b1673"
      },
      "execution_count": 18,
      "outputs": [
        {
          "output_type": "stream",
          "name": "stdout",
          "text": [
            "0\n",
            "1\n",
            "2\n",
            "is identical to\n",
            "0\n",
            "1\n",
            "2\n"
          ]
        }
      ]
    },
    {
      "cell_type": "markdown",
      "source": [
        "**Functions**"
      ],
      "metadata": {
        "id": "-PneRHVGswD3"
      }
    },
    {
      "cell_type": "code",
      "source": [
        "def mult(f1,f2):\n",
        "  # returns product of arguments\n",
        "  return f1*f2\n",
        "\n",
        "print(mult(2,3))"
      ],
      "metadata": {
        "id": "h8gDzlAXsyP5",
        "colab": {
          "base_uri": "https://localhost:8080/"
        },
        "outputId": "b96cc874-e877-4ed5-e665-3eec4aabad53"
      },
      "execution_count": 19,
      "outputs": [
        {
          "output_type": "stream",
          "name": "stdout",
          "text": [
            "6\n"
          ]
        }
      ]
    },
    {
      "cell_type": "code",
      "source": [
        "def mult_and_sum (f1,f2):\n",
        "  # returns product of arguments\n",
        "  return f1 * f2, f1 + f2\n",
        "\n",
        "m, s = mult_and_sum(2,3)\n",
        "print(m, s)"
      ],
      "metadata": {
        "id": "iONh5nizuwgF",
        "colab": {
          "base_uri": "https://localhost:8080/"
        },
        "outputId": "258df8e5-fd7f-4182-d9bb-326c1af407b9"
      },
      "execution_count": 20,
      "outputs": [
        {
          "output_type": "stream",
          "name": "stdout",
          "text": [
            "6 5\n"
          ]
        }
      ]
    },
    {
      "cell_type": "code",
      "source": [
        "def powers (x,p=2):\n",
        "  # returns given power\n",
        "  # default is p=2\n",
        "  return x**p\n",
        "\n",
        "print(powers(2))  \n",
        "print(powers(2,3))  "
      ],
      "metadata": {
        "id": "QFQb3CnyvOnR",
        "colab": {
          "base_uri": "https://localhost:8080/"
        },
        "outputId": "209dc78e-7cb0-4655-f784-116fbf0925db"
      },
      "execution_count": 21,
      "outputs": [
        {
          "output_type": "stream",
          "name": "stdout",
          "text": [
            "4\n",
            "8\n"
          ]
        }
      ]
    },
    {
      "cell_type": "markdown",
      "source": [
        "Function implementing:\n",
        "$$\n",
        "f(x)=\n",
        "\\left\\{\n",
        "\\begin{array}{l}\n",
        "0,\\quad x<0\\\\\n",
        "x,\\quad 0\\le x<1\\\\\n",
        "2-x,\\quad 1\\le x<2\\\\\n",
        "0,\\quad x\\ge 2\n",
        "\\end{array}\n",
        "\\right.\n",
        "$$"
      ],
      "metadata": {
        "id": "0aDBprm1W-_n"
      }
    },
    {
      "cell_type": "code",
      "source": [
        "def f(x):\n",
        "  if x < 0: \n",
        "    return 0 \n",
        "  elif 0 <= x < 1: \n",
        "    return x\n",
        "  elif 1 <= x < 2: \n",
        "    return 2 - x \n",
        "  elif x >= 2: \n",
        "    return 0"
      ],
      "metadata": {
        "id": "u9VtP4fcW0IO"
      },
      "execution_count": 22,
      "outputs": []
    },
    {
      "cell_type": "code",
      "source": [
        "f(3)"
      ],
      "metadata": {
        "id": "c6aFpMpEXgwV",
        "colab": {
          "base_uri": "https://localhost:8080/"
        },
        "outputId": "c08450f8-dfae-4832-8d30-79711032c422"
      },
      "execution_count": 23,
      "outputs": [
        {
          "output_type": "execute_result",
          "data": {
            "text/plain": [
              "0"
            ]
          },
          "metadata": {},
          "execution_count": 23
        }
      ]
    },
    {
      "cell_type": "markdown",
      "source": [
        "Lambda functions are one-line functions:"
      ],
      "metadata": {
        "id": "XA6nbJRZYOLY"
      }
    },
    {
      "cell_type": "code",
      "source": [
        "f = lambda x, y: x**2 - 1 +y\n",
        "\n",
        "f(1,1)"
      ],
      "metadata": {
        "id": "q4GnRg2oYRor",
        "colab": {
          "base_uri": "https://localhost:8080/"
        },
        "outputId": "76b002cc-88c7-4612-db6e-49ab110a20e4"
      },
      "execution_count": 24,
      "outputs": [
        {
          "output_type": "execute_result",
          "data": {
            "text/plain": [
              "1"
            ]
          },
          "metadata": {},
          "execution_count": 24
        }
      ]
    },
    {
      "cell_type": "markdown",
      "source": [
        "# Divided Difference formulas"
      ],
      "metadata": {
        "id": "FB4a1DObQMbu"
      }
    },
    {
      "cell_type": "markdown",
      "source": [
        "Implement basic divided difference formulas:\n",
        "\n",
        "$\\delta_{h,+} f (x)= \\frac{f(x+h)-f(x)}{h}  \\quad$    (FD)\n",
        "\n",
        "$\\delta_{h,-} f (x)= \\frac{f(x)-f(x-h)}{h}  \\quad$    (BD)\n",
        "\n",
        "$\\delta_{h} f (x)= \\frac{f(x+h/2)-f(x-h/2)}{h}  \\quad$    (CD)"
      ],
      "metadata": {
        "id": "bIJ5aiUXQUCw"
      }
    },
    {
      "cell_type": "code",
      "source": [
        "import matplotlib\n",
        "#pylap inline \n",
        "import sympy as sym"
      ],
      "metadata": {
        "id": "Zg8AZ_0fQYfj"
      },
      "execution_count": 25,
      "outputs": []
    },
    {
      "cell_type": "code",
      "source": [
        "def forw_diff(x,h,f):\n",
        "  return (f(x+h)-f(x))/h"
      ],
      "metadata": {
        "id": "iapXY_9NTPuV"
      },
      "execution_count": 26,
      "outputs": []
    },
    {
      "cell_type": "code",
      "source": [
        "t = sym.var('t')\n",
        "my_f = 0.5 * t**2\n",
        "fsym =sym.lambdify(t, my_f)"
      ],
      "metadata": {
        "id": "C101-BUHTkS5"
      },
      "execution_count": 29,
      "outputs": []
    },
    {
      "cell_type": "code",
      "source": [
        "h=.2\n",
        "x=0.5\n",
        "print(forw_diff(x,h,fsym))"
      ],
      "metadata": {
        "id": "CpVKf6jwUPYF"
      },
      "execution_count": null,
      "outputs": []
    },
    {
      "cell_type": "markdown",
      "source": [
        "Let us now fix a grid and compute the FD in matrix form"
      ],
      "metadata": {
        "id": "nHTvDZoVU8Fm"
      }
    },
    {
      "cell_type": "code",
      "source": [
        "a = 0\n",
        "b = 1\n",
        "N = 5\n",
        "h = (b-a)/N\n",
        "x = np.linspace(0,1,N+1)\n",
        "print(x)"
      ],
      "metadata": {
        "id": "nNphS0QbU6Pg"
      },
      "execution_count": null,
      "outputs": []
    },
    {
      "cell_type": "code",
      "source": [
        "FD = np.zeros((N+1,N+1))\n",
        "\n",
        "for i in range(N):\n",
        "  FD[i,i] = -1\n",
        "  FD[i, i+1] = 1\n",
        "\n",
        "FD = FD/h"
      ],
      "metadata": {
        "id": "CqxUkXikVmMv"
      },
      "execution_count": 35,
      "outputs": []
    },
    {
      "cell_type": "code",
      "source": [
        "v = fsym(x)\n",
        "\n",
        "v_x = FD.dot(v)[0:N]\n",
        "\n",
        "print(v_x)"
      ],
      "metadata": {
        "id": "OCgBlhH2W19J"
      },
      "execution_count": null,
      "outputs": []
    },
    {
      "cell_type": "code",
      "source": [
        "def F_D(a,b,N):\n",
        "\n",
        "  h = (b-a)/N\n",
        "\n",
        "  FD = np.zeros((N+1,N+1))\n",
        "  for i in range(N):\n",
        "    FD[i,i] = -1\n",
        "    FD[i, i+1] = 1\n",
        "\n",
        "  return FD/h"
      ],
      "metadata": {
        "id": "zAdWMCDFXgGx"
      },
      "execution_count": 40,
      "outputs": []
    },
    {
      "cell_type": "code",
      "source": [
        "FD = F_D(a,b,N)\n",
        "\n",
        "v_x = FD.dot(v)[0:N]\n",
        "\n",
        "print(v_x)"
      ],
      "metadata": {
        "id": "ZbccY6SCYA7Y"
      },
      "execution_count": null,
      "outputs": []
    },
    {
      "cell_type": "markdown",
      "source": [
        "Let's check convergence!"
      ],
      "metadata": {
        "id": "0_6uGXlKYWut"
      }
    },
    {
      "cell_type": "code",
      "source": [
        "t = sym.var('t')\n",
        "my_f = sym.sin(t)\n",
        "fsym = sym.lambdify(t, my_f)\n",
        "fsym_x = sym.lambdify(t, my_f.diff(t,1))\n",
        "\n",
        "no_expe = 8\n",
        "error = np.zeros(no_expe)\n",
        "NN = np.zeros(no_expe)\n",
        "\n",
        "for i in range(no_expe):\n",
        "  N = 2**(i+1)\n",
        "  NN[i] = N\n",
        "\n",
        "  x = np.linspace(0,1,N+1)\n",
        "  FD = F_D(a,b,N)\n",
        "  u_x = FD.dot(fsym(x))[1:N]\n",
        "  error[i] = max(abs(u_x-fsym_x(x)[1:N]))\n",
        "\n"
      ],
      "metadata": {
        "id": "nntsQJ1iYWYk"
      },
      "execution_count": 45,
      "outputs": []
    },
    {
      "cell_type": "code",
      "source": [
        "print(error)"
      ],
      "metadata": {
        "id": "XC5lNADiaqfj"
      },
      "execution_count": null,
      "outputs": []
    },
    {
      "cell_type": "code",
      "source": [
        "import matplotlib\n",
        "\n",
        "matplotlib.pyplot.loglog(NN,error)\n",
        "\n",
        "matplotlib.pyplot.loglog(NN,NN**(-1))"
      ],
      "metadata": {
        "id": "3B-ADTlbax1O",
        "outputId": "7eeb1a8c-f426-4872-c10a-67b3fe6bd505",
        "colab": {
          "base_uri": "https://localhost:8080/",
          "height": 287
        }
      },
      "execution_count": 52,
      "outputs": [
        {
          "output_type": "execute_result",
          "data": {
            "text/plain": [
              "[<matplotlib.lines.Line2D at 0x7f2f4400ecd0>]"
            ]
          },
          "metadata": {},
          "execution_count": 52
        },
        {
          "output_type": "display_data",
          "data": {
            "image/png": "[encoded data removed]",
            "text/plain": [
              "<Figure size 432x288 with 1 Axes>"
            ]
          },
          "metadata": {
            "needs_background": "light"
          }
        }
      ]
    }
  ]
}